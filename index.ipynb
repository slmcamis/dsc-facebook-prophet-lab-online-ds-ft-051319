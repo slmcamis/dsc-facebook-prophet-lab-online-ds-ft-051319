{
 "cells": [
  {
   "cell_type": "markdown",
   "metadata": {},
   "source": [
    "# Facebook Prophet - Lab\n",
    "\n",
    "## Introduction\n",
    "\n",
    "In the last lab, we learnt how to visualize and manipulate time series data, and how to use the ARIMA modeling to produce forecasts from time-series data. We also learnt how the conclude a correct parametrization of ARIMA models. This can be a complicated process, and while statistical programming languages such a R provide automated ways to solve this issue, but those have yet to be officially ported over to Python. \n",
    "\n",
    "Fortunately, the Data Science team at Facebook recently published a new method called prophet, which enables data analysts and developers alike to perform forecasting at scale in Python. We would encourage you to read [this article](https://research.fb.com/prophet-forecasting-at-scale/) by Facebook explaining how prophet simplifies the forecasting process and provides an improved predictive ability. \n",
    "\n",
    "## Objectives\n",
    "\n",
    "* Understand the difference between ARIMA and Additive Synthesis for time series forecasting\n",
    "* Model a time series object using prophet library \n",
    "* Make predictions for future and compare the approach with previously seen techniques\n",
    "\n",
    "## Facebook Prophet\n",
    "\n",
    "Facebook prophet uses an elegant yet simple method for analyzing and predicting periodic data known as the **additive modeling**. The idea is straightforward: represent a time-series as a combination of patterns at different scales such as daily, weekly, seasonally, and yearly, along with an overall trend. Your energy use might rise in the summer and decrease in the winter, but have an overall decreasing trend as you increase the energy efficiency of your home. An additive model can show us both patterns/trends and make predictions based on these observations.\n",
    "\n",
    "The following image shows an additive model decomposition of a time-series into an overall trend, yearly trend, and weekly trend.\n",
    "\n",
    "![](https://research.fb.com/wp-content/uploads/2017/02/prophet_example_for_post2.png?w=648)\n",
    "\n",
    "*“Prophet has been a key piece to improving Facebook’s ability to create a large number of trustworthy forecasts used for decision-making and even in product features.”*\n",
    "\n",
    "In order to compute its forecasts, the fbprophet library relies on the STAN programming language. Before installing fbprophet, we need to make sure that the pystan Python wrapper to STAN is installed. We shall first install `pystan` and `fbprophet` using `!pip install`."
   ]
  },
  {
   "cell_type": "code",
   "execution_count": 1,
   "metadata": {},
   "outputs": [],
   "source": [
    "#!pip install pystan"
   ]
  },
  {
   "cell_type": "code",
   "execution_count": 2,
   "metadata": {},
   "outputs": [],
   "source": [
    "#!pip install --upgrade pip"
   ]
  },
  {
   "cell_type": "code",
   "execution_count": 3,
   "metadata": {},
   "outputs": [],
   "source": [
    "#!pip install fbprophet"
   ]
  },
  {
   "cell_type": "markdown",
   "metadata": {},
   "source": [
    "Let's start by reading in our time-series data. We shall cover some data manipulation using pandas, accessing financial data using the `Quandl` library and, and plotting with matplotlib. "
   ]
  },
  {
   "cell_type": "code",
   "execution_count": 4,
   "metadata": {},
   "outputs": [],
   "source": [
    "#Import necessary libraries\n",
    "import warnings\n",
    "warnings.filterwarnings('ignore')\n",
    "\n",
    "\n",
    "import pandas as pd \n",
    "\n",
    "# Matplotlib for plotting\n",
    "import matplotlib.pyplot as plt\n",
    "import matplotlib\n",
    "import seaborn as sns\n",
    "%matplotlib inline\n",
    "from matplotlib.pylab import rcParams\n",
    "plt.style.use('fivethirtyeight')\n",
    "\n",
    "from fbprophet import Prophet as proph\n"
   ]
  },
  {
   "cell_type": "code",
   "execution_count": 20,
   "metadata": {},
   "outputs": [],
   "source": [
    "# Import passengers.csv and set it as a time-series object. \n",
    "ts = pd.read_csv('passengers.csv')"
   ]
  },
  {
   "cell_type": "code",
   "execution_count": 21,
   "metadata": {},
   "outputs": [
    {
     "data": {
      "text/html": [
       "<div>\n",
       "<style scoped>\n",
       "    .dataframe tbody tr th:only-of-type {\n",
       "        vertical-align: middle;\n",
       "    }\n",
       "\n",
       "    .dataframe tbody tr th {\n",
       "        vertical-align: top;\n",
       "    }\n",
       "\n",
       "    .dataframe thead th {\n",
       "        text-align: right;\n",
       "    }\n",
       "</style>\n",
       "<table border=\"1\" class=\"dataframe\">\n",
       "  <thead>\n",
       "    <tr style=\"text-align: right;\">\n",
       "      <th></th>\n",
       "      <th>Month</th>\n",
       "      <th>#Passengers</th>\n",
       "    </tr>\n",
       "  </thead>\n",
       "  <tbody>\n",
       "    <tr>\n",
       "      <th>0</th>\n",
       "      <td>1949-01-01</td>\n",
       "      <td>112</td>\n",
       "    </tr>\n",
       "    <tr>\n",
       "      <th>1</th>\n",
       "      <td>1949-02-01</td>\n",
       "      <td>118</td>\n",
       "    </tr>\n",
       "    <tr>\n",
       "      <th>2</th>\n",
       "      <td>1949-03-01</td>\n",
       "      <td>132</td>\n",
       "    </tr>\n",
       "    <tr>\n",
       "      <th>3</th>\n",
       "      <td>1949-04-01</td>\n",
       "      <td>129</td>\n",
       "    </tr>\n",
       "    <tr>\n",
       "      <th>4</th>\n",
       "      <td>1949-05-01</td>\n",
       "      <td>121</td>\n",
       "    </tr>\n",
       "  </tbody>\n",
       "</table>\n",
       "</div>"
      ],
      "text/plain": [
       "        Month  #Passengers\n",
       "0  1949-01-01          112\n",
       "1  1949-02-01          118\n",
       "2  1949-03-01          132\n",
       "3  1949-04-01          129\n",
       "4  1949-05-01          121"
      ]
     },
     "execution_count": 21,
     "metadata": {},
     "output_type": "execute_result"
    }
   ],
   "source": [
    "ts.head()"
   ]
  },
  {
   "cell_type": "code",
   "execution_count": 22,
   "metadata": {},
   "outputs": [],
   "source": [
    "ts['Month'] = pd.to_datetime(ts['Month'])\n"
   ]
  },
  {
   "cell_type": "code",
   "execution_count": 23,
   "metadata": {},
   "outputs": [],
   "source": [
    "ts = ts.rename(columns={'Month': 'ds', '#Passengers': 'y'})"
   ]
  },
  {
   "cell_type": "code",
   "execution_count": 24,
   "metadata": {},
   "outputs": [
    {
     "data": {
      "text/html": [
       "<div>\n",
       "<style scoped>\n",
       "    .dataframe tbody tr th:only-of-type {\n",
       "        vertical-align: middle;\n",
       "    }\n",
       "\n",
       "    .dataframe tbody tr th {\n",
       "        vertical-align: top;\n",
       "    }\n",
       "\n",
       "    .dataframe thead th {\n",
       "        text-align: right;\n",
       "    }\n",
       "</style>\n",
       "<table border=\"1\" class=\"dataframe\">\n",
       "  <thead>\n",
       "    <tr style=\"text-align: right;\">\n",
       "      <th></th>\n",
       "      <th>ds</th>\n",
       "      <th>y</th>\n",
       "    </tr>\n",
       "  </thead>\n",
       "  <tbody>\n",
       "    <tr>\n",
       "      <th>0</th>\n",
       "      <td>1949-01-01</td>\n",
       "      <td>112</td>\n",
       "    </tr>\n",
       "    <tr>\n",
       "      <th>1</th>\n",
       "      <td>1949-02-01</td>\n",
       "      <td>118</td>\n",
       "    </tr>\n",
       "    <tr>\n",
       "      <th>2</th>\n",
       "      <td>1949-03-01</td>\n",
       "      <td>132</td>\n",
       "    </tr>\n",
       "    <tr>\n",
       "      <th>3</th>\n",
       "      <td>1949-04-01</td>\n",
       "      <td>129</td>\n",
       "    </tr>\n",
       "    <tr>\n",
       "      <th>4</th>\n",
       "      <td>1949-05-01</td>\n",
       "      <td>121</td>\n",
       "    </tr>\n",
       "  </tbody>\n",
       "</table>\n",
       "</div>"
      ],
      "text/plain": [
       "          ds    y\n",
       "0 1949-01-01  112\n",
       "1 1949-02-01  118\n",
       "2 1949-03-01  132\n",
       "3 1949-04-01  129\n",
       "4 1949-05-01  121"
      ]
     },
     "execution_count": 24,
     "metadata": {},
     "output_type": "execute_result"
    }
   ],
   "source": [
    "ts.head()"
   ]
  },
  {
   "cell_type": "markdown",
   "metadata": {},
   "source": [
    "The prophet library also imposes the strict condition that the input columns be named `ds` (the time column) and `y` (the metric column), so let's rename the columns in our `ts` dataframe. "
   ]
  },
  {
   "cell_type": "code",
   "execution_count": 25,
   "metadata": {},
   "outputs": [],
   "source": [
    "# Rename the columns [Month, AirPassengers] to [ds, y]\n",
    "ts.set_index(ts['ds'], inplace = True)\n",
    "#    ds          y\n",
    "# 1949-01-01\t112\n",
    "# 1949-02-01\t118\n",
    "# 1949-03-01\t132\n",
    "# 1949-04-01\t129\n",
    "# 1949-05-01\t121"
   ]
  },
  {
   "cell_type": "code",
   "execution_count": 26,
   "metadata": {},
   "outputs": [
    {
     "data": {
      "text/html": [
       "<div>\n",
       "<style scoped>\n",
       "    .dataframe tbody tr th:only-of-type {\n",
       "        vertical-align: middle;\n",
       "    }\n",
       "\n",
       "    .dataframe tbody tr th {\n",
       "        vertical-align: top;\n",
       "    }\n",
       "\n",
       "    .dataframe thead th {\n",
       "        text-align: right;\n",
       "    }\n",
       "</style>\n",
       "<table border=\"1\" class=\"dataframe\">\n",
       "  <thead>\n",
       "    <tr style=\"text-align: right;\">\n",
       "      <th></th>\n",
       "      <th>ds</th>\n",
       "      <th>y</th>\n",
       "    </tr>\n",
       "    <tr>\n",
       "      <th>ds</th>\n",
       "      <th></th>\n",
       "      <th></th>\n",
       "    </tr>\n",
       "  </thead>\n",
       "  <tbody>\n",
       "    <tr>\n",
       "      <th>1949-01-01</th>\n",
       "      <td>1949-01-01</td>\n",
       "      <td>112</td>\n",
       "    </tr>\n",
       "    <tr>\n",
       "      <th>1949-02-01</th>\n",
       "      <td>1949-02-01</td>\n",
       "      <td>118</td>\n",
       "    </tr>\n",
       "    <tr>\n",
       "      <th>1949-03-01</th>\n",
       "      <td>1949-03-01</td>\n",
       "      <td>132</td>\n",
       "    </tr>\n",
       "    <tr>\n",
       "      <th>1949-04-01</th>\n",
       "      <td>1949-04-01</td>\n",
       "      <td>129</td>\n",
       "    </tr>\n",
       "    <tr>\n",
       "      <th>1949-05-01</th>\n",
       "      <td>1949-05-01</td>\n",
       "      <td>121</td>\n",
       "    </tr>\n",
       "  </tbody>\n",
       "</table>\n",
       "</div>"
      ],
      "text/plain": [
       "                   ds    y\n",
       "ds                        \n",
       "1949-01-01 1949-01-01  112\n",
       "1949-02-01 1949-02-01  118\n",
       "1949-03-01 1949-03-01  132\n",
       "1949-04-01 1949-04-01  129\n",
       "1949-05-01 1949-05-01  121"
      ]
     },
     "execution_count": 26,
     "metadata": {},
     "output_type": "execute_result"
    }
   ],
   "source": [
    "ts.head()"
   ]
  },
  {
   "cell_type": "code",
   "execution_count": 27,
   "metadata": {},
   "outputs": [
    {
     "data": {
      "text/plain": [
       "[<matplotlib.lines.Line2D at 0x1a1b563e80>]"
      ]
     },
     "execution_count": 27,
     "metadata": {},
     "output_type": "execute_result"
    },
    {
     "data": {
      "image/png": "[encoded data removed]",
      "text/plain": [
       "<Figure size 432x288 with 1 Axes>"
      ]
     },
     "metadata": {
      "needs_background": "light"
     },
     "output_type": "display_data"
    }
   ],
   "source": [
    "# Plot the timeseries \n",
    "plt.plot(ts.y)"
   ]
  },
  {
   "cell_type": "markdown",
   "metadata": {},
   "source": [
    "## Time Series Forecasting with Prophet\n",
    "\n",
    "In this section, we shall learn how to use the Prophet library to predict future values of our time-series. The Facebook team has abstracted away many of the inherent complexities of time series forecasting and made it more intuitive for analysts and developers alike to work with time series data.\n",
    "\n",
    "To begin, we will create a new prophet object with `proph()` and provide a number of arguments. For example, we can specify the desired range of our uncertainty interval by setting the `interval_width` parameter."
   ]
  },
  {
   "cell_type": "code",
   "execution_count": 28,
   "metadata": {},
   "outputs": [],
   "source": [
    "# set the uncertainty interval to 95% (the Prophet default is 80%)\n",
    "model = proph(interval_width=0.95)"
   ]
  },
  {
   "cell_type": "markdown",
   "metadata": {},
   "source": [
    "Now that our model has been initialized, we can call its `fit` method with our DataFrame `ts` as input. The model fitting should take no longer than a few seconds."
   ]
  },
  {
   "cell_type": "code",
   "execution_count": 29,
   "metadata": {},
   "outputs": [
    {
     "data": {
      "text/html": [
       "<div>\n",
       "<style scoped>\n",
       "    .dataframe tbody tr th:only-of-type {\n",
       "        vertical-align: middle;\n",
       "    }\n",
       "\n",
       "    .dataframe tbody tr th {\n",
       "        vertical-align: top;\n",
       "    }\n",
       "\n",
       "    .dataframe thead th {\n",
       "        text-align: right;\n",
       "    }\n",
       "</style>\n",
       "<table border=\"1\" class=\"dataframe\">\n",
       "  <thead>\n",
       "    <tr style=\"text-align: right;\">\n",
       "      <th></th>\n",
       "      <th>ds</th>\n",
       "      <th>y</th>\n",
       "    </tr>\n",
       "    <tr>\n",
       "      <th>ds</th>\n",
       "      <th></th>\n",
       "      <th></th>\n",
       "    </tr>\n",
       "  </thead>\n",
       "  <tbody>\n",
       "    <tr>\n",
       "      <th>1949-01-01</th>\n",
       "      <td>1949-01-01</td>\n",
       "      <td>112</td>\n",
       "    </tr>\n",
       "    <tr>\n",
       "      <th>1949-02-01</th>\n",
       "      <td>1949-02-01</td>\n",
       "      <td>118</td>\n",
       "    </tr>\n",
       "    <tr>\n",
       "      <th>1949-03-01</th>\n",
       "      <td>1949-03-01</td>\n",
       "      <td>132</td>\n",
       "    </tr>\n",
       "    <tr>\n",
       "      <th>1949-04-01</th>\n",
       "      <td>1949-04-01</td>\n",
       "      <td>129</td>\n",
       "    </tr>\n",
       "    <tr>\n",
       "      <th>1949-05-01</th>\n",
       "      <td>1949-05-01</td>\n",
       "      <td>121</td>\n",
       "    </tr>\n",
       "    <tr>\n",
       "      <th>1949-06-01</th>\n",
       "      <td>1949-06-01</td>\n",
       "      <td>135</td>\n",
       "    </tr>\n",
       "    <tr>\n",
       "      <th>1949-07-01</th>\n",
       "      <td>1949-07-01</td>\n",
       "      <td>148</td>\n",
       "    </tr>\n",
       "    <tr>\n",
       "      <th>1949-08-01</th>\n",
       "      <td>1949-08-01</td>\n",
       "      <td>148</td>\n",
       "    </tr>\n",
       "    <tr>\n",
       "      <th>1949-09-01</th>\n",
       "      <td>1949-09-01</td>\n",
       "      <td>136</td>\n",
       "    </tr>\n",
       "    <tr>\n",
       "      <th>1949-10-01</th>\n",
       "      <td>1949-10-01</td>\n",
       "      <td>119</td>\n",
       "    </tr>\n",
       "    <tr>\n",
       "      <th>1949-11-01</th>\n",
       "      <td>1949-11-01</td>\n",
       "      <td>104</td>\n",
       "    </tr>\n",
       "    <tr>\n",
       "      <th>1949-12-01</th>\n",
       "      <td>1949-12-01</td>\n",
       "      <td>118</td>\n",
       "    </tr>\n",
       "    <tr>\n",
       "      <th>1950-01-01</th>\n",
       "      <td>1950-01-01</td>\n",
       "      <td>115</td>\n",
       "    </tr>\n",
       "    <tr>\n",
       "      <th>1950-02-01</th>\n",
       "      <td>1950-02-01</td>\n",
       "      <td>126</td>\n",
       "    </tr>\n",
       "    <tr>\n",
       "      <th>1950-03-01</th>\n",
       "      <td>1950-03-01</td>\n",
       "      <td>141</td>\n",
       "    </tr>\n",
       "  </tbody>\n",
       "</table>\n",
       "</div>"
      ],
      "text/plain": [
       "                   ds    y\n",
       "ds                        \n",
       "1949-01-01 1949-01-01  112\n",
       "1949-02-01 1949-02-01  118\n",
       "1949-03-01 1949-03-01  132\n",
       "1949-04-01 1949-04-01  129\n",
       "1949-05-01 1949-05-01  121\n",
       "1949-06-01 1949-06-01  135\n",
       "1949-07-01 1949-07-01  148\n",
       "1949-08-01 1949-08-01  148\n",
       "1949-09-01 1949-09-01  136\n",
       "1949-10-01 1949-10-01  119\n",
       "1949-11-01 1949-11-01  104\n",
       "1949-12-01 1949-12-01  118\n",
       "1950-01-01 1950-01-01  115\n",
       "1950-02-01 1950-02-01  126\n",
       "1950-03-01 1950-03-01  141"
      ]
     },
     "execution_count": 29,
     "metadata": {},
     "output_type": "execute_result"
    }
   ],
   "source": [
    "ts.head(15)"
   ]
  },
  {
   "cell_type": "code",
   "execution_count": 30,
   "metadata": {},
   "outputs": [
    {
     "name": "stderr",
     "output_type": "stream",
     "text": [
      "INFO:fbprophet:Disabling weekly seasonality. Run prophet with weekly_seasonality=True to override this.\n",
      "INFO:fbprophet:Disabling daily seasonality. Run prophet with daily_seasonality=True to override this.\n"
     ]
    },
    {
     "data": {
      "text/plain": [
       "<fbprophet.forecaster.Prophet at 0x1a1b84dd30>"
      ]
     },
     "execution_count": 30,
     "metadata": {},
     "output_type": "execute_result"
    }
   ],
   "source": [
    "# Fit the timeseries into Model\n",
    "model.fit(ts)"
   ]
  },
  {
   "cell_type": "markdown",
   "metadata": {},
   "source": [
    "In order to obtain forecasts of our time series, we must provide the model with a new dataframe containing a `ds` column that holds the dates for which we want predictions. Conveniently, we do not have to concern ourselves with manually creating this dataframe because prophet provides the `make_future_dataframe` helper function. We will call this function to generate 36 datestamps in the future. The documentation for this function is available [HERE](https://www.rdocumentation.org/packages/prophet/versions/0.3.0.1/topics/make_future_dataframe).\n",
    "\n",
    "It is also important to consider the frequency of our time series. Because we are working with monthly data, we clearly specified the desired frequency of the timestamps (in this case, MS is the start of the month). Therefore, the `make_future_dataframe` will generate 36 monthly timestamps for us. In other words, we are looking to predict future values of our time series 3 years into the future.\n"
   ]
  },
  {
   "cell_type": "code",
   "execution_count": 32,
   "metadata": {},
   "outputs": [
    {
     "data": {
      "text/html": [
       "<div>\n",
       "<style scoped>\n",
       "    .dataframe tbody tr th:only-of-type {\n",
       "        vertical-align: middle;\n",
       "    }\n",
       "\n",
       "    .dataframe tbody tr th {\n",
       "        vertical-align: top;\n",
       "    }\n",
       "\n",
       "    .dataframe thead th {\n",
       "        text-align: right;\n",
       "    }\n",
       "</style>\n",
       "<table border=\"1\" class=\"dataframe\">\n",
       "  <thead>\n",
       "    <tr style=\"text-align: right;\">\n",
       "      <th></th>\n",
       "      <th>ds</th>\n",
       "    </tr>\n",
       "  </thead>\n",
       "  <tbody>\n",
       "    <tr>\n",
       "      <th>175</th>\n",
       "      <td>1963-07-31</td>\n",
       "    </tr>\n",
       "    <tr>\n",
       "      <th>176</th>\n",
       "      <td>1963-08-31</td>\n",
       "    </tr>\n",
       "    <tr>\n",
       "      <th>177</th>\n",
       "      <td>1963-09-30</td>\n",
       "    </tr>\n",
       "    <tr>\n",
       "      <th>178</th>\n",
       "      <td>1963-10-31</td>\n",
       "    </tr>\n",
       "    <tr>\n",
       "      <th>179</th>\n",
       "      <td>1963-11-30</td>\n",
       "    </tr>\n",
       "  </tbody>\n",
       "</table>\n",
       "</div>"
      ],
      "text/plain": [
       "            ds\n",
       "175 1963-07-31\n",
       "176 1963-08-31\n",
       "177 1963-09-30\n",
       "178 1963-10-31\n",
       "179 1963-11-30"
      ]
     },
     "execution_count": 32,
     "metadata": {},
     "output_type": "execute_result"
    }
   ],
   "source": [
    "# USe make_future_dataframe with a monthly frequency and periods = 36 for 3 years\n",
    "future_dates = model.make_future_dataframe(periods=36, freq='M')\n",
    "future_dates.tail()\n",
    "\n",
    "# \tds\n",
    "# 175\t1963-08-01\n",
    "# 176\t1963-09-01\n",
    "# 177\t1963-10-01\n",
    "# 178\t1963-11-01\n",
    "# 179\t1963-12-01"
   ]
  },
  {
   "cell_type": "markdown",
   "metadata": {},
   "source": [
    "This future dates dataframe can now be used as input to the `predict` method of the fitted model."
   ]
  },
  {
   "cell_type": "code",
   "execution_count": 34,
   "metadata": {},
   "outputs": [
    {
     "data": {
      "text/html": [
       "<div>\n",
       "<style scoped>\n",
       "    .dataframe tbody tr th:only-of-type {\n",
       "        vertical-align: middle;\n",
       "    }\n",
       "\n",
       "    .dataframe tbody tr th {\n",
       "        vertical-align: top;\n",
       "    }\n",
       "\n",
       "    .dataframe thead th {\n",
       "        text-align: right;\n",
       "    }\n",
       "</style>\n",
       "<table border=\"1\" class=\"dataframe\">\n",
       "  <thead>\n",
       "    <tr style=\"text-align: right;\">\n",
       "      <th></th>\n",
       "      <th>ds</th>\n",
       "      <th>trend</th>\n",
       "      <th>yhat_lower</th>\n",
       "      <th>yhat_upper</th>\n",
       "      <th>trend_lower</th>\n",
       "      <th>trend_upper</th>\n",
       "      <th>additive_terms</th>\n",
       "      <th>additive_terms_lower</th>\n",
       "      <th>additive_terms_upper</th>\n",
       "      <th>yearly</th>\n",
       "      <th>yearly_lower</th>\n",
       "      <th>yearly_upper</th>\n",
       "      <th>multiplicative_terms</th>\n",
       "      <th>multiplicative_terms_lower</th>\n",
       "      <th>multiplicative_terms_upper</th>\n",
       "      <th>yhat</th>\n",
       "    </tr>\n",
       "  </thead>\n",
       "  <tbody>\n",
       "    <tr>\n",
       "      <th>0</th>\n",
       "      <td>1949-01-01</td>\n",
       "      <td>106.390966</td>\n",
       "      <td>40.821902</td>\n",
       "      <td>127.332084</td>\n",
       "      <td>106.390966</td>\n",
       "      <td>106.390966</td>\n",
       "      <td>-21.935305</td>\n",
       "      <td>-21.935305</td>\n",
       "      <td>-21.935305</td>\n",
       "      <td>-21.935305</td>\n",
       "      <td>-21.935305</td>\n",
       "      <td>-21.935305</td>\n",
       "      <td>0.0</td>\n",
       "      <td>0.0</td>\n",
       "      <td>0.0</td>\n",
       "      <td>84.455661</td>\n",
       "    </tr>\n",
       "    <tr>\n",
       "      <th>1</th>\n",
       "      <td>1949-02-01</td>\n",
       "      <td>108.569855</td>\n",
       "      <td>37.436228</td>\n",
       "      <td>120.776786</td>\n",
       "      <td>108.569855</td>\n",
       "      <td>108.569855</td>\n",
       "      <td>-30.703975</td>\n",
       "      <td>-30.703975</td>\n",
       "      <td>-30.703975</td>\n",
       "      <td>-30.703975</td>\n",
       "      <td>-30.703975</td>\n",
       "      <td>-30.703975</td>\n",
       "      <td>0.0</td>\n",
       "      <td>0.0</td>\n",
       "      <td>0.0</td>\n",
       "      <td>77.865881</td>\n",
       "    </tr>\n",
       "    <tr>\n",
       "      <th>2</th>\n",
       "      <td>1949-03-01</td>\n",
       "      <td>110.537884</td>\n",
       "      <td>65.762995</td>\n",
       "      <td>152.023395</td>\n",
       "      <td>110.537884</td>\n",
       "      <td>110.537884</td>\n",
       "      <td>-0.486998</td>\n",
       "      <td>-0.486998</td>\n",
       "      <td>-0.486998</td>\n",
       "      <td>-0.486998</td>\n",
       "      <td>-0.486998</td>\n",
       "      <td>-0.486998</td>\n",
       "      <td>0.0</td>\n",
       "      <td>0.0</td>\n",
       "      <td>0.0</td>\n",
       "      <td>110.050887</td>\n",
       "    </tr>\n",
       "    <tr>\n",
       "      <th>3</th>\n",
       "      <td>1949-04-01</td>\n",
       "      <td>112.716774</td>\n",
       "      <td>62.930891</td>\n",
       "      <td>154.048245</td>\n",
       "      <td>112.716774</td>\n",
       "      <td>112.716774</td>\n",
       "      <td>-5.184948</td>\n",
       "      <td>-5.184948</td>\n",
       "      <td>-5.184948</td>\n",
       "      <td>-5.184948</td>\n",
       "      <td>-5.184948</td>\n",
       "      <td>-5.184948</td>\n",
       "      <td>0.0</td>\n",
       "      <td>0.0</td>\n",
       "      <td>0.0</td>\n",
       "      <td>107.531826</td>\n",
       "    </tr>\n",
       "    <tr>\n",
       "      <th>4</th>\n",
       "      <td>1949-05-01</td>\n",
       "      <td>114.825377</td>\n",
       "      <td>67.687491</td>\n",
       "      <td>155.245126</td>\n",
       "      <td>114.825377</td>\n",
       "      <td>114.825377</td>\n",
       "      <td>-3.782347</td>\n",
       "      <td>-3.782347</td>\n",
       "      <td>-3.782347</td>\n",
       "      <td>-3.782347</td>\n",
       "      <td>-3.782347</td>\n",
       "      <td>-3.782347</td>\n",
       "      <td>0.0</td>\n",
       "      <td>0.0</td>\n",
       "      <td>0.0</td>\n",
       "      <td>111.043030</td>\n",
       "    </tr>\n",
       "  </tbody>\n",
       "</table>\n",
       "</div>"
      ],
      "text/plain": [
       "          ds       trend  yhat_lower  yhat_upper  trend_lower  trend_upper  \\\n",
       "0 1949-01-01  106.390966   40.821902  127.332084   106.390966   106.390966   \n",
       "1 1949-02-01  108.569855   37.436228  120.776786   108.569855   108.569855   \n",
       "2 1949-03-01  110.537884   65.762995  152.023395   110.537884   110.537884   \n",
       "3 1949-04-01  112.716774   62.930891  154.048245   112.716774   112.716774   \n",
       "4 1949-05-01  114.825377   67.687491  155.245126   114.825377   114.825377   \n",
       "\n",
       "   additive_terms  additive_terms_lower  additive_terms_upper     yearly  \\\n",
       "0      -21.935305            -21.935305            -21.935305 -21.935305   \n",
       "1      -30.703975            -30.703975            -30.703975 -30.703975   \n",
       "2       -0.486998             -0.486998             -0.486998  -0.486998   \n",
       "3       -5.184948             -5.184948             -5.184948  -5.184948   \n",
       "4       -3.782347             -3.782347             -3.782347  -3.782347   \n",
       "\n",
       "   yearly_lower  yearly_upper  multiplicative_terms  \\\n",
       "0    -21.935305    -21.935305                   0.0   \n",
       "1    -30.703975    -30.703975                   0.0   \n",
       "2     -0.486998     -0.486998                   0.0   \n",
       "3     -5.184948     -5.184948                   0.0   \n",
       "4     -3.782347     -3.782347                   0.0   \n",
       "\n",
       "   multiplicative_terms_lower  multiplicative_terms_upper        yhat  \n",
       "0                         0.0                         0.0   84.455661  \n",
       "1                         0.0                         0.0   77.865881  \n",
       "2                         0.0                         0.0  110.050887  \n",
       "3                         0.0                         0.0  107.531826  \n",
       "4                         0.0                         0.0  111.043030  "
      ]
     },
     "execution_count": 34,
     "metadata": {},
     "output_type": "execute_result"
    }
   ],
   "source": [
    "# Predict the values for future dates and take the head of forecast\n",
    "predicted = model.predict(future_dates)\n",
    "predicted.head()\n",
    "# ds\ttrend\ttrend_lower\ttrend_upper\tyhat_lower\tyhat_upper\tadditive_terms\tadditive_terms_lower\tadditive_terms_upper\tmultiplicative_terms\tmultiplicative_terms_lower\tmultiplicative_terms_upper\tyearly\tyearly_lower\tyearly_upper\tyhat\n",
    "# 0\t1949-01-01\t106.390966\t106.390966\t106.390966\t40.066461\t128.916059\t-21.935305\t-21.935305\t-21.935305\t0.0\t0.0\t0.0\t-21.935305\t-21.935305\t-21.935305\t84.455661\n",
    "# 1\t1949-02-01\t108.569855\t108.569855\t108.569855\t33.931775\t120.662906\t-30.703975\t-30.703975\t-30.703975\t0.0\t0.0\t0.0\t-30.703975\t-30.703975\t-30.703975\t77.865881\n",
    "# 2\t1949-03-01\t110.537884\t110.537884\t110.537884\t65.902441\t152.751003\t-0.486998\t-0.486998\t-0.486998\t0.0\t0.0\t0.0\t-0.486998\t-0.486998\t-0.486998\t110.050887\n",
    "# 3\t1949-04-01\t112.716774\t112.716774\t112.716774\t65.488925\t149.317057\t-5.184948\t-5.184948\t-5.184948\t0.0\t0.0\t0.0\t-5.184948\t-5.184948\t-5.184948\t107.531826\n",
    "# 4\t1949-05-01\t114.825377\t114.825377\t114.825377\t67.562029\t153.611413\t-3.782347\t-3.782347\t-3.782347\t0.0\t0.0"
   ]
  },
  {
   "cell_type": "markdown",
   "metadata": {},
   "source": [
    "We can see that prophet returns a large table with many interesting columns, but we subset our output to the columns most relevant to forecasting, which are:\n",
    "\n",
    "* `ds`: the datestamp of the forecasted value\n",
    "* `yhat`: the forecasted value of our metric (in Statistics, yhat is a notation traditionally used to represent the predicted values of a value y)\n",
    "* `yhat_lower`: the lower bound of our forecasts\n",
    "* `yhat_upper`: the upper bound of our forecasts"
   ]
  },
  {
   "cell_type": "code",
   "execution_count": 35,
   "metadata": {},
   "outputs": [
    {
     "data": {
      "text/html": [
       "<div>\n",
       "<style scoped>\n",
       "    .dataframe tbody tr th:only-of-type {\n",
       "        vertical-align: middle;\n",
       "    }\n",
       "\n",
       "    .dataframe tbody tr th {\n",
       "        vertical-align: top;\n",
       "    }\n",
       "\n",
       "    .dataframe thead th {\n",
       "        text-align: right;\n",
       "    }\n",
       "</style>\n",
       "<table border=\"1\" class=\"dataframe\">\n",
       "  <thead>\n",
       "    <tr style=\"text-align: right;\">\n",
       "      <th></th>\n",
       "      <th>ds</th>\n",
       "      <th>yhat</th>\n",
       "      <th>yhat_lower</th>\n",
       "      <th>yhat_upper</th>\n",
       "    </tr>\n",
       "  </thead>\n",
       "  <tbody>\n",
       "    <tr>\n",
       "      <th>175</th>\n",
       "      <td>1963-07-31</td>\n",
       "      <td>648.461391</td>\n",
       "      <td>606.267250</td>\n",
       "      <td>693.746932</td>\n",
       "    </tr>\n",
       "    <tr>\n",
       "      <th>176</th>\n",
       "      <td>1963-08-31</td>\n",
       "      <td>603.122491</td>\n",
       "      <td>561.542229</td>\n",
       "      <td>646.497826</td>\n",
       "    </tr>\n",
       "    <tr>\n",
       "      <th>177</th>\n",
       "      <td>1963-09-30</td>\n",
       "      <td>565.688294</td>\n",
       "      <td>518.205771</td>\n",
       "      <td>608.353125</td>\n",
       "    </tr>\n",
       "    <tr>\n",
       "      <th>178</th>\n",
       "      <td>1963-10-31</td>\n",
       "      <td>537.506299</td>\n",
       "      <td>494.022455</td>\n",
       "      <td>581.408534</td>\n",
       "    </tr>\n",
       "    <tr>\n",
       "      <th>179</th>\n",
       "      <td>1963-11-30</td>\n",
       "      <td>566.868656</td>\n",
       "      <td>522.873214</td>\n",
       "      <td>610.850477</td>\n",
       "    </tr>\n",
       "  </tbody>\n",
       "</table>\n",
       "</div>"
      ],
      "text/plain": [
       "            ds        yhat  yhat_lower  yhat_upper\n",
       "175 1963-07-31  648.461391  606.267250  693.746932\n",
       "176 1963-08-31  603.122491  561.542229  646.497826\n",
       "177 1963-09-30  565.688294  518.205771  608.353125\n",
       "178 1963-10-31  537.506299  494.022455  581.408534\n",
       "179 1963-11-30  566.868656  522.873214  610.850477"
      ]
     },
     "execution_count": 35,
     "metadata": {},
     "output_type": "execute_result"
    }
   ],
   "source": [
    "# Subset above mentioned columns and view the tail \n",
    "pred_short = predicted[['ds', 'yhat', 'yhat_lower', 'yhat_upper']]\n",
    "pred_short.tail()\n",
    "\n",
    "# \tds\tyhat\tyhat_lower\tyhat_upper\n",
    "# 175\t1963-08-01\t649.787427\t604.921338\t695.757506\n",
    "# 176\t1963-09-01\t602.260711\t557.213400\t645.642244\n",
    "# 177\t1963-10-01\t566.233600\t524.324314\t608.815224\n",
    "# 178\t1963-11-01\t534.258296\t488.622666\t578.243727\n",
    "# 179\t1963-12-01\t563.846779\t516.242796\t609.748779"
   ]
  },
  {
   "cell_type": "markdown",
   "metadata": {},
   "source": [
    "A variation in values from the output presented above is to be expected as Prophet relies on Markov chain Monte Carlo (MCMC) methods to generate its forecasts. MCMC is a stochastic process, so values will be slightly different each time.\n",
    "\n",
    "Prophet also provides a convenient function to quickly plot the results of our forecasts."
   ]
  },
  {
   "cell_type": "code",
   "execution_count": 36,
   "metadata": {},
   "outputs": [
    {
     "data": {
      "image/png": "[encoded data removed]",
      "text/plain": [
       "<Figure size 720x432 with 1 Axes>"
      ]
     },
     "execution_count": 36,
     "metadata": {},
     "output_type": "execute_result"
    },
    {
     "data": {
      "image/png": "[encoded data removed]",
      "text/plain": [
       "<Figure size 720x432 with 1 Axes>"
      ]
     },
     "metadata": {},
     "output_type": "display_data"
    }
   ],
   "source": [
    "# Use prophet's plot function to plot the predictions\n",
    "model.plot(predicted)"
   ]
  },
  {
   "cell_type": "markdown",
   "metadata": {},
   "source": [
    "Prophet plots the observed values of the time-series (the black dots), the forecasted values (blue line) and the uncertainty intervals of our forecasts (the blue shaded regions).\n",
    "\n",
    "One other particularly strong feature of Prophet is its ability to return the components of our forecasts. This can help reveal how daily, weekly and yearly patterns of the time series contribute to the overall forecasted values. We can use `plot_components()` function to view the individual components."
   ]
  },
  {
   "cell_type": "code",
   "execution_count": 38,
   "metadata": {},
   "outputs": [
    {
     "ename": "TypeError",
     "evalue": "'Figure' object does not support indexing",
     "output_type": "error",
     "traceback": [
      "\u001b[0;31m---------------------------------------------------------------------------\u001b[0m",
      "\u001b[0;31mTypeError\u001b[0m                                 Traceback (most recent call last)",
      "\u001b[0;32m<ipython-input-38-933f65d9ae69>\u001b[0m in \u001b[0;36m<module>\u001b[0;34m()\u001b[0m\n\u001b[1;32m      1\u001b[0m \u001b[0;31m# Plot model components\u001b[0m\u001b[0;34m\u001b[0m\u001b[0;34m\u001b[0m\u001b[0m\n\u001b[0;32m----> 2\u001b[0;31m \u001b[0mmodel\u001b[0m\u001b[0;34m.\u001b[0m\u001b[0mplot_components\u001b[0m\u001b[0;34m(\u001b[0m\u001b[0mpredicted\u001b[0m\u001b[0;34m)\u001b[0m\u001b[0;34m[\u001b[0m\u001b[0;36m0\u001b[0m\u001b[0;34m]\u001b[0m\u001b[0;34m\u001b[0m\u001b[0m\n\u001b[0m",
      "\u001b[0;31mTypeError\u001b[0m: 'Figure' object does not support indexing"
     ]
    },
    {
     "data": {
      "image/png": "[encoded data removed]",
      "text/plain": [
       "<Figure size 648x432 with 2 Axes>"
      ]
     },
     "metadata": {},
     "output_type": "display_data"
    }
   ],
   "source": [
    "# Plot model components\n",
    "model.plot_components(predicted)[0]"
   ]
  },
  {
   "cell_type": "markdown",
   "metadata": {},
   "source": [
    "Since we are working with monthly data, Prophet will plot the trend and the yearly seasonality but if you were working with daily data, you would also see a weekly seasonality plot included."
   ]
  },
  {
   "cell_type": "code",
   "execution_count": 42,
   "metadata": {},
   "outputs": [],
   "source": [
    "import numpy as np"
   ]
  },
  {
   "cell_type": "code",
   "execution_count": 46,
   "metadata": {},
   "outputs": [
    {
     "data": {
      "text/html": [
       "<div>\n",
       "<style scoped>\n",
       "    .dataframe tbody tr th:only-of-type {\n",
       "        vertical-align: middle;\n",
       "    }\n",
       "\n",
       "    .dataframe tbody tr th {\n",
       "        vertical-align: top;\n",
       "    }\n",
       "\n",
       "    .dataframe thead th {\n",
       "        text-align: right;\n",
       "    }\n",
       "</style>\n",
       "<table border=\"1\" class=\"dataframe\">\n",
       "  <thead>\n",
       "    <tr style=\"text-align: right;\">\n",
       "      <th></th>\n",
       "      <th>ds</th>\n",
       "      <th>trend</th>\n",
       "      <th>yhat_lower</th>\n",
       "      <th>yhat_upper</th>\n",
       "      <th>trend_lower</th>\n",
       "      <th>trend_upper</th>\n",
       "      <th>additive_terms</th>\n",
       "      <th>additive_terms_lower</th>\n",
       "      <th>additive_terms_upper</th>\n",
       "      <th>yearly</th>\n",
       "      <th>yearly_lower</th>\n",
       "      <th>yearly_upper</th>\n",
       "      <th>multiplicative_terms</th>\n",
       "      <th>multiplicative_terms_lower</th>\n",
       "      <th>multiplicative_terms_upper</th>\n",
       "      <th>yhat</th>\n",
       "    </tr>\n",
       "  </thead>\n",
       "  <tbody>\n",
       "    <tr>\n",
       "      <th>0</th>\n",
       "      <td>1949-01-01</td>\n",
       "      <td>106.390966</td>\n",
       "      <td>40.821902</td>\n",
       "      <td>127.332084</td>\n",
       "      <td>106.390966</td>\n",
       "      <td>106.390966</td>\n",
       "      <td>-21.935305</td>\n",
       "      <td>-21.935305</td>\n",
       "      <td>-21.935305</td>\n",
       "      <td>-21.935305</td>\n",
       "      <td>-21.935305</td>\n",
       "      <td>-21.935305</td>\n",
       "      <td>0.0</td>\n",
       "      <td>0.0</td>\n",
       "      <td>0.0</td>\n",
       "      <td>84.455661</td>\n",
       "    </tr>\n",
       "    <tr>\n",
       "      <th>1</th>\n",
       "      <td>1949-02-01</td>\n",
       "      <td>108.569855</td>\n",
       "      <td>37.436228</td>\n",
       "      <td>120.776786</td>\n",
       "      <td>108.569855</td>\n",
       "      <td>108.569855</td>\n",
       "      <td>-30.703975</td>\n",
       "      <td>-30.703975</td>\n",
       "      <td>-30.703975</td>\n",
       "      <td>-30.703975</td>\n",
       "      <td>-30.703975</td>\n",
       "      <td>-30.703975</td>\n",
       "      <td>0.0</td>\n",
       "      <td>0.0</td>\n",
       "      <td>0.0</td>\n",
       "      <td>77.865881</td>\n",
       "    </tr>\n",
       "    <tr>\n",
       "      <th>2</th>\n",
       "      <td>1949-03-01</td>\n",
       "      <td>110.537884</td>\n",
       "      <td>65.762995</td>\n",
       "      <td>152.023395</td>\n",
       "      <td>110.537884</td>\n",
       "      <td>110.537884</td>\n",
       "      <td>-0.486998</td>\n",
       "      <td>-0.486998</td>\n",
       "      <td>-0.486998</td>\n",
       "      <td>-0.486998</td>\n",
       "      <td>-0.486998</td>\n",
       "      <td>-0.486998</td>\n",
       "      <td>0.0</td>\n",
       "      <td>0.0</td>\n",
       "      <td>0.0</td>\n",
       "      <td>110.050887</td>\n",
       "    </tr>\n",
       "    <tr>\n",
       "      <th>3</th>\n",
       "      <td>1949-04-01</td>\n",
       "      <td>112.716774</td>\n",
       "      <td>62.930891</td>\n",
       "      <td>154.048245</td>\n",
       "      <td>112.716774</td>\n",
       "      <td>112.716774</td>\n",
       "      <td>-5.184948</td>\n",
       "      <td>-5.184948</td>\n",
       "      <td>-5.184948</td>\n",
       "      <td>-5.184948</td>\n",
       "      <td>-5.184948</td>\n",
       "      <td>-5.184948</td>\n",
       "      <td>0.0</td>\n",
       "      <td>0.0</td>\n",
       "      <td>0.0</td>\n",
       "      <td>107.531826</td>\n",
       "    </tr>\n",
       "    <tr>\n",
       "      <th>4</th>\n",
       "      <td>1949-05-01</td>\n",
       "      <td>114.825377</td>\n",
       "      <td>67.687491</td>\n",
       "      <td>155.245126</td>\n",
       "      <td>114.825377</td>\n",
       "      <td>114.825377</td>\n",
       "      <td>-3.782347</td>\n",
       "      <td>-3.782347</td>\n",
       "      <td>-3.782347</td>\n",
       "      <td>-3.782347</td>\n",
       "      <td>-3.782347</td>\n",
       "      <td>-3.782347</td>\n",
       "      <td>0.0</td>\n",
       "      <td>0.0</td>\n",
       "      <td>0.0</td>\n",
       "      <td>111.043030</td>\n",
       "    </tr>\n",
       "  </tbody>\n",
       "</table>\n",
       "</div>"
      ],
      "text/plain": [
       "          ds       trend  yhat_lower  yhat_upper  trend_lower  trend_upper  \\\n",
       "0 1949-01-01  106.390966   40.821902  127.332084   106.390966   106.390966   \n",
       "1 1949-02-01  108.569855   37.436228  120.776786   108.569855   108.569855   \n",
       "2 1949-03-01  110.537884   65.762995  152.023395   110.537884   110.537884   \n",
       "3 1949-04-01  112.716774   62.930891  154.048245   112.716774   112.716774   \n",
       "4 1949-05-01  114.825377   67.687491  155.245126   114.825377   114.825377   \n",
       "\n",
       "   additive_terms  additive_terms_lower  additive_terms_upper     yearly  \\\n",
       "0      -21.935305            -21.935305            -21.935305 -21.935305   \n",
       "1      -30.703975            -30.703975            -30.703975 -30.703975   \n",
       "2       -0.486998             -0.486998             -0.486998  -0.486998   \n",
       "3       -5.184948             -5.184948             -5.184948  -5.184948   \n",
       "4       -3.782347             -3.782347             -3.782347  -3.782347   \n",
       "\n",
       "   yearly_lower  yearly_upper  multiplicative_terms  \\\n",
       "0    -21.935305    -21.935305                   0.0   \n",
       "1    -30.703975    -30.703975                   0.0   \n",
       "2     -0.486998     -0.486998                   0.0   \n",
       "3     -5.184948     -5.184948                   0.0   \n",
       "4     -3.782347     -3.782347                   0.0   \n",
       "\n",
       "   multiplicative_terms_lower  multiplicative_terms_upper        yhat  \n",
       "0                         0.0                         0.0   84.455661  \n",
       "1                         0.0                         0.0   77.865881  \n",
       "2                         0.0                         0.0  110.050887  \n",
       "3                         0.0                         0.0  107.531826  \n",
       "4                         0.0                         0.0  111.043030  "
      ]
     },
     "execution_count": 46,
     "metadata": {},
     "output_type": "execute_result"
    }
   ],
   "source": [
    "predicted.head()"
   ]
  },
  {
   "cell_type": "code",
   "execution_count": 47,
   "metadata": {},
   "outputs": [],
   "source": [
    "error = predicted.trend - ts.y**2"
   ]
  },
  {
   "cell_type": "code",
   "execution_count": 51,
   "metadata": {},
   "outputs": [
    {
     "data": {
      "text/plain": [
       "144"
      ]
     },
     "execution_count": 51,
     "metadata": {},
     "output_type": "execute_result"
    }
   ],
   "source": [
    "len(ts.y)"
   ]
  },
  {
   "cell_type": "code",
   "execution_count": 52,
   "metadata": {},
   "outputs": [
    {
     "data": {
      "text/plain": [
       "180"
      ]
     },
     "execution_count": 52,
     "metadata": {},
     "output_type": "execute_result"
    }
   ],
   "source": [
    "len(predicted)"
   ]
  },
  {
   "cell_type": "code",
   "execution_count": 77,
   "metadata": {},
   "outputs": [],
   "source": [
    "error = (predicted[:144].yhat.values - ts.y.values)**2"
   ]
  },
  {
   "cell_type": "code",
   "execution_count": 78,
   "metadata": {},
   "outputs": [
    {
     "data": {
      "text/plain": [
       "505.62109400990266"
      ]
     },
     "execution_count": 78,
     "metadata": {},
     "output_type": "execute_result"
    }
   ],
   "source": [
    "error.mean()"
   ]
  },
  {
   "cell_type": "code",
   "execution_count": 60,
   "metadata": {},
   "outputs": [],
   "source": [
    "error = (predicted.trend[:144] - ts.y)**2"
   ]
  },
  {
   "cell_type": "code",
   "execution_count": 62,
   "metadata": {
    "scrolled": true
   },
   "outputs": [],
   "source": [
    "df = predicted[:144]"
   ]
  },
  {
   "cell_type": "code",
   "execution_count": 64,
   "metadata": {},
   "outputs": [
    {
     "data": {
      "text/plain": [
       "nan"
      ]
     },
     "execution_count": 64,
     "metadata": {},
     "output_type": "execute_result"
    }
   ],
   "source": [
    "error = sum(df.trend - ts.y)**2\n",
    "error"
   ]
  },
  {
   "cell_type": "code",
   "execution_count": 70,
   "metadata": {},
   "outputs": [],
   "source": [
    "df['y'] = ts.y.values"
   ]
  },
  {
   "cell_type": "code",
   "execution_count": 69,
   "metadata": {},
   "outputs": [
    {
     "data": {
      "text/plain": [
       "array([112, 118, 132, 129, 121, 135, 148, 148, 136, 119, 104, 118, 115,\n",
       "       126, 141, 135, 125, 149, 170, 170, 158, 133, 114, 140, 145, 150,\n",
       "       178, 163, 172, 178, 199, 199, 184, 162, 146, 166, 171, 180, 193,\n",
       "       181, 183, 218, 230, 242, 209, 191, 172, 194, 196, 196, 236, 235,\n",
       "       229, 243, 264, 272, 237, 211, 180, 201, 204, 188, 235, 227, 234,\n",
       "       264, 302, 293, 259, 229, 203, 229, 242, 233, 267, 269, 270, 315,\n",
       "       364, 347, 312, 274, 237, 278, 284, 277, 317, 313, 318, 374, 413,\n",
       "       405, 355, 306, 271, 306, 315, 301, 356, 348, 355, 422, 465, 467,\n",
       "       404, 347, 305, 336, 340, 318, 362, 348, 363, 435, 491, 505, 404,\n",
       "       359, 310, 337, 360, 342, 406, 396, 420, 472, 548, 559, 463, 407,\n",
       "       362, 405, 417, 391, 419, 461, 472, 535, 622, 606, 508, 461, 390,\n",
       "       432])"
      ]
     },
     "execution_count": 69,
     "metadata": {},
     "output_type": "execute_result"
    }
   ],
   "source": [
    "ts.y.values\n"
   ]
  },
  {
   "cell_type": "code",
   "execution_count": 71,
   "metadata": {},
   "outputs": [
    {
     "data": {
      "text/html": [
       "<div>\n",
       "<style scoped>\n",
       "    .dataframe tbody tr th:only-of-type {\n",
       "        vertical-align: middle;\n",
       "    }\n",
       "\n",
       "    .dataframe tbody tr th {\n",
       "        vertical-align: top;\n",
       "    }\n",
       "\n",
       "    .dataframe thead th {\n",
       "        text-align: right;\n",
       "    }\n",
       "</style>\n",
       "<table border=\"1\" class=\"dataframe\">\n",
       "  <thead>\n",
       "    <tr style=\"text-align: right;\">\n",
       "      <th></th>\n",
       "      <th>ds</th>\n",
       "      <th>trend</th>\n",
       "      <th>yhat_lower</th>\n",
       "      <th>yhat_upper</th>\n",
       "      <th>trend_lower</th>\n",
       "      <th>trend_upper</th>\n",
       "      <th>additive_terms</th>\n",
       "      <th>additive_terms_lower</th>\n",
       "      <th>additive_terms_upper</th>\n",
       "      <th>yearly</th>\n",
       "      <th>yearly_lower</th>\n",
       "      <th>yearly_upper</th>\n",
       "      <th>multiplicative_terms</th>\n",
       "      <th>multiplicative_terms_lower</th>\n",
       "      <th>multiplicative_terms_upper</th>\n",
       "      <th>yhat</th>\n",
       "      <th>y</th>\n",
       "    </tr>\n",
       "  </thead>\n",
       "  <tbody>\n",
       "    <tr>\n",
       "      <th>0</th>\n",
       "      <td>1949-01-01</td>\n",
       "      <td>106.390966</td>\n",
       "      <td>40.821902</td>\n",
       "      <td>127.332084</td>\n",
       "      <td>106.390966</td>\n",
       "      <td>106.390966</td>\n",
       "      <td>-21.935305</td>\n",
       "      <td>-21.935305</td>\n",
       "      <td>-21.935305</td>\n",
       "      <td>-21.935305</td>\n",
       "      <td>-21.935305</td>\n",
       "      <td>-21.935305</td>\n",
       "      <td>0.0</td>\n",
       "      <td>0.0</td>\n",
       "      <td>0.0</td>\n",
       "      <td>84.455661</td>\n",
       "      <td>112</td>\n",
       "    </tr>\n",
       "    <tr>\n",
       "      <th>1</th>\n",
       "      <td>1949-02-01</td>\n",
       "      <td>108.569855</td>\n",
       "      <td>37.436228</td>\n",
       "      <td>120.776786</td>\n",
       "      <td>108.569855</td>\n",
       "      <td>108.569855</td>\n",
       "      <td>-30.703975</td>\n",
       "      <td>-30.703975</td>\n",
       "      <td>-30.703975</td>\n",
       "      <td>-30.703975</td>\n",
       "      <td>-30.703975</td>\n",
       "      <td>-30.703975</td>\n",
       "      <td>0.0</td>\n",
       "      <td>0.0</td>\n",
       "      <td>0.0</td>\n",
       "      <td>77.865881</td>\n",
       "      <td>118</td>\n",
       "    </tr>\n",
       "    <tr>\n",
       "      <th>2</th>\n",
       "      <td>1949-03-01</td>\n",
       "      <td>110.537884</td>\n",
       "      <td>65.762995</td>\n",
       "      <td>152.023395</td>\n",
       "      <td>110.537884</td>\n",
       "      <td>110.537884</td>\n",
       "      <td>-0.486998</td>\n",
       "      <td>-0.486998</td>\n",
       "      <td>-0.486998</td>\n",
       "      <td>-0.486998</td>\n",
       "      <td>-0.486998</td>\n",
       "      <td>-0.486998</td>\n",
       "      <td>0.0</td>\n",
       "      <td>0.0</td>\n",
       "      <td>0.0</td>\n",
       "      <td>110.050887</td>\n",
       "      <td>132</td>\n",
       "    </tr>\n",
       "    <tr>\n",
       "      <th>3</th>\n",
       "      <td>1949-04-01</td>\n",
       "      <td>112.716774</td>\n",
       "      <td>62.930891</td>\n",
       "      <td>154.048245</td>\n",
       "      <td>112.716774</td>\n",
       "      <td>112.716774</td>\n",
       "      <td>-5.184948</td>\n",
       "      <td>-5.184948</td>\n",
       "      <td>-5.184948</td>\n",
       "      <td>-5.184948</td>\n",
       "      <td>-5.184948</td>\n",
       "      <td>-5.184948</td>\n",
       "      <td>0.0</td>\n",
       "      <td>0.0</td>\n",
       "      <td>0.0</td>\n",
       "      <td>107.531826</td>\n",
       "      <td>129</td>\n",
       "    </tr>\n",
       "    <tr>\n",
       "      <th>4</th>\n",
       "      <td>1949-05-01</td>\n",
       "      <td>114.825377</td>\n",
       "      <td>67.687491</td>\n",
       "      <td>155.245126</td>\n",
       "      <td>114.825377</td>\n",
       "      <td>114.825377</td>\n",
       "      <td>-3.782347</td>\n",
       "      <td>-3.782347</td>\n",
       "      <td>-3.782347</td>\n",
       "      <td>-3.782347</td>\n",
       "      <td>-3.782347</td>\n",
       "      <td>-3.782347</td>\n",
       "      <td>0.0</td>\n",
       "      <td>0.0</td>\n",
       "      <td>0.0</td>\n",
       "      <td>111.043030</td>\n",
       "      <td>121</td>\n",
       "    </tr>\n",
       "    <tr>\n",
       "      <th>5</th>\n",
       "      <td>1949-06-01</td>\n",
       "      <td>117.004266</td>\n",
       "      <td>103.179092</td>\n",
       "      <td>195.592629</td>\n",
       "      <td>117.004266</td>\n",
       "      <td>117.004266</td>\n",
       "      <td>34.004963</td>\n",
       "      <td>34.004963</td>\n",
       "      <td>34.004963</td>\n",
       "      <td>34.004963</td>\n",
       "      <td>34.004963</td>\n",
       "      <td>34.004963</td>\n",
       "      <td>0.0</td>\n",
       "      <td>0.0</td>\n",
       "      <td>0.0</td>\n",
       "      <td>151.009229</td>\n",
       "      <td>135</td>\n",
       "    </tr>\n",
       "    <tr>\n",
       "      <th>6</th>\n",
       "      <td>1949-07-01</td>\n",
       "      <td>119.112869</td>\n",
       "      <td>147.039367</td>\n",
       "      <td>233.440218</td>\n",
       "      <td>119.112869</td>\n",
       "      <td>119.112869</td>\n",
       "      <td>70.633574</td>\n",
       "      <td>70.633574</td>\n",
       "      <td>70.633574</td>\n",
       "      <td>70.633574</td>\n",
       "      <td>70.633574</td>\n",
       "      <td>70.633574</td>\n",
       "      <td>0.0</td>\n",
       "      <td>0.0</td>\n",
       "      <td>0.0</td>\n",
       "      <td>189.746443</td>\n",
       "      <td>148</td>\n",
       "    </tr>\n",
       "    <tr>\n",
       "      <th>7</th>\n",
       "      <td>1949-08-01</td>\n",
       "      <td>121.291759</td>\n",
       "      <td>141.772353</td>\n",
       "      <td>232.667302</td>\n",
       "      <td>121.291759</td>\n",
       "      <td>121.291759</td>\n",
       "      <td>67.934911</td>\n",
       "      <td>67.934911</td>\n",
       "      <td>67.934911</td>\n",
       "      <td>67.934911</td>\n",
       "      <td>67.934911</td>\n",
       "      <td>67.934911</td>\n",
       "      <td>0.0</td>\n",
       "      <td>0.0</td>\n",
       "      <td>0.0</td>\n",
       "      <td>189.226670</td>\n",
       "      <td>148</td>\n",
       "    </tr>\n",
       "    <tr>\n",
       "      <th>8</th>\n",
       "      <td>1949-09-01</td>\n",
       "      <td>123.470648</td>\n",
       "      <td>96.554450</td>\n",
       "      <td>185.789628</td>\n",
       "      <td>123.470648</td>\n",
       "      <td>123.470648</td>\n",
       "      <td>16.312679</td>\n",
       "      <td>16.312679</td>\n",
       "      <td>16.312679</td>\n",
       "      <td>16.312679</td>\n",
       "      <td>16.312679</td>\n",
       "      <td>16.312679</td>\n",
       "      <td>0.0</td>\n",
       "      <td>0.0</td>\n",
       "      <td>0.0</td>\n",
       "      <td>139.783327</td>\n",
       "      <td>136</td>\n",
       "    </tr>\n",
       "    <tr>\n",
       "      <th>9</th>\n",
       "      <td>1949-10-01</td>\n",
       "      <td>125.579251</td>\n",
       "      <td>57.021271</td>\n",
       "      <td>146.530889</td>\n",
       "      <td>125.579251</td>\n",
       "      <td>125.579251</td>\n",
       "      <td>-21.951401</td>\n",
       "      <td>-21.951401</td>\n",
       "      <td>-21.951401</td>\n",
       "      <td>-21.951401</td>\n",
       "      <td>-21.951401</td>\n",
       "      <td>-21.951401</td>\n",
       "      <td>0.0</td>\n",
       "      <td>0.0</td>\n",
       "      <td>0.0</td>\n",
       "      <td>103.627850</td>\n",
       "      <td>119</td>\n",
       "    </tr>\n",
       "    <tr>\n",
       "      <th>10</th>\n",
       "      <td>1949-11-01</td>\n",
       "      <td>127.758141</td>\n",
       "      <td>24.567707</td>\n",
       "      <td>111.691763</td>\n",
       "      <td>127.758141</td>\n",
       "      <td>127.758141</td>\n",
       "      <td>-58.900312</td>\n",
       "      <td>-58.900312</td>\n",
       "      <td>-58.900312</td>\n",
       "      <td>-58.900312</td>\n",
       "      <td>-58.900312</td>\n",
       "      <td>-58.900312</td>\n",
       "      <td>0.0</td>\n",
       "      <td>0.0</td>\n",
       "      <td>0.0</td>\n",
       "      <td>68.857828</td>\n",
       "      <td>104</td>\n",
       "    </tr>\n",
       "    <tr>\n",
       "      <th>11</th>\n",
       "      <td>1949-12-01</td>\n",
       "      <td>129.866743</td>\n",
       "      <td>52.221402</td>\n",
       "      <td>140.773551</td>\n",
       "      <td>129.866743</td>\n",
       "      <td>129.866743</td>\n",
       "      <td>-32.556841</td>\n",
       "      <td>-32.556841</td>\n",
       "      <td>-32.556841</td>\n",
       "      <td>-32.556841</td>\n",
       "      <td>-32.556841</td>\n",
       "      <td>-32.556841</td>\n",
       "      <td>0.0</td>\n",
       "      <td>0.0</td>\n",
       "      <td>0.0</td>\n",
       "      <td>97.309903</td>\n",
       "      <td>118</td>\n",
       "    </tr>\n",
       "    <tr>\n",
       "      <th>12</th>\n",
       "      <td>1950-01-01</td>\n",
       "      <td>132.045633</td>\n",
       "      <td>63.168344</td>\n",
       "      <td>153.270283</td>\n",
       "      <td>132.045633</td>\n",
       "      <td>132.045633</td>\n",
       "      <td>-22.744091</td>\n",
       "      <td>-22.744091</td>\n",
       "      <td>-22.744091</td>\n",
       "      <td>-22.744091</td>\n",
       "      <td>-22.744091</td>\n",
       "      <td>-22.744091</td>\n",
       "      <td>0.0</td>\n",
       "      <td>0.0</td>\n",
       "      <td>0.0</td>\n",
       "      <td>109.301542</td>\n",
       "      <td>115</td>\n",
       "    </tr>\n",
       "    <tr>\n",
       "      <th>13</th>\n",
       "      <td>1950-02-01</td>\n",
       "      <td>134.224522</td>\n",
       "      <td>56.828702</td>\n",
       "      <td>147.295799</td>\n",
       "      <td>134.224522</td>\n",
       "      <td>134.224522</td>\n",
       "      <td>-32.016744</td>\n",
       "      <td>-32.016744</td>\n",
       "      <td>-32.016744</td>\n",
       "      <td>-32.016744</td>\n",
       "      <td>-32.016744</td>\n",
       "      <td>-32.016744</td>\n",
       "      <td>0.0</td>\n",
       "      <td>0.0</td>\n",
       "      <td>0.0</td>\n",
       "      <td>102.207779</td>\n",
       "      <td>126</td>\n",
       "    </tr>\n",
       "    <tr>\n",
       "      <th>14</th>\n",
       "      <td>1950-03-01</td>\n",
       "      <td>136.192552</td>\n",
       "      <td>93.688842</td>\n",
       "      <td>183.636253</td>\n",
       "      <td>136.192552</td>\n",
       "      <td>136.192552</td>\n",
       "      <td>0.728232</td>\n",
       "      <td>0.728232</td>\n",
       "      <td>0.728232</td>\n",
       "      <td>0.728232</td>\n",
       "      <td>0.728232</td>\n",
       "      <td>0.728232</td>\n",
       "      <td>0.0</td>\n",
       "      <td>0.0</td>\n",
       "      <td>0.0</td>\n",
       "      <td>136.920783</td>\n",
       "      <td>141</td>\n",
       "    </tr>\n",
       "  </tbody>\n",
       "</table>\n",
       "</div>"
      ],
      "text/plain": [
       "           ds       trend  yhat_lower  yhat_upper  trend_lower  trend_upper  \\\n",
       "0  1949-01-01  106.390966   40.821902  127.332084   106.390966   106.390966   \n",
       "1  1949-02-01  108.569855   37.436228  120.776786   108.569855   108.569855   \n",
       "2  1949-03-01  110.537884   65.762995  152.023395   110.537884   110.537884   \n",
       "3  1949-04-01  112.716774   62.930891  154.048245   112.716774   112.716774   \n",
       "4  1949-05-01  114.825377   67.687491  155.245126   114.825377   114.825377   \n",
       "5  1949-06-01  117.004266  103.179092  195.592629   117.004266   117.004266   \n",
       "6  1949-07-01  119.112869  147.039367  233.440218   119.112869   119.112869   \n",
       "7  1949-08-01  121.291759  141.772353  232.667302   121.291759   121.291759   \n",
       "8  1949-09-01  123.470648   96.554450  185.789628   123.470648   123.470648   \n",
       "9  1949-10-01  125.579251   57.021271  146.530889   125.579251   125.579251   \n",
       "10 1949-11-01  127.758141   24.567707  111.691763   127.758141   127.758141   \n",
       "11 1949-12-01  129.866743   52.221402  140.773551   129.866743   129.866743   \n",
       "12 1950-01-01  132.045633   63.168344  153.270283   132.045633   132.045633   \n",
       "13 1950-02-01  134.224522   56.828702  147.295799   134.224522   134.224522   \n",
       "14 1950-03-01  136.192552   93.688842  183.636253   136.192552   136.192552   \n",
       "\n",
       "    additive_terms  additive_terms_lower  additive_terms_upper     yearly  \\\n",
       "0       -21.935305            -21.935305            -21.935305 -21.935305   \n",
       "1       -30.703975            -30.703975            -30.703975 -30.703975   \n",
       "2        -0.486998             -0.486998             -0.486998  -0.486998   \n",
       "3        -5.184948             -5.184948             -5.184948  -5.184948   \n",
       "4        -3.782347             -3.782347             -3.782347  -3.782347   \n",
       "5        34.004963             34.004963             34.004963  34.004963   \n",
       "6        70.633574             70.633574             70.633574  70.633574   \n",
       "7        67.934911             67.934911             67.934911  67.934911   \n",
       "8        16.312679             16.312679             16.312679  16.312679   \n",
       "9       -21.951401            -21.951401            -21.951401 -21.951401   \n",
       "10      -58.900312            -58.900312            -58.900312 -58.900312   \n",
       "11      -32.556841            -32.556841            -32.556841 -32.556841   \n",
       "12      -22.744091            -22.744091            -22.744091 -22.744091   \n",
       "13      -32.016744            -32.016744            -32.016744 -32.016744   \n",
       "14        0.728232              0.728232              0.728232   0.728232   \n",
       "\n",
       "    yearly_lower  yearly_upper  multiplicative_terms  \\\n",
       "0     -21.935305    -21.935305                   0.0   \n",
       "1     -30.703975    -30.703975                   0.0   \n",
       "2      -0.486998     -0.486998                   0.0   \n",
       "3      -5.184948     -5.184948                   0.0   \n",
       "4      -3.782347     -3.782347                   0.0   \n",
       "5      34.004963     34.004963                   0.0   \n",
       "6      70.633574     70.633574                   0.0   \n",
       "7      67.934911     67.934911                   0.0   \n",
       "8      16.312679     16.312679                   0.0   \n",
       "9     -21.951401    -21.951401                   0.0   \n",
       "10    -58.900312    -58.900312                   0.0   \n",
       "11    -32.556841    -32.556841                   0.0   \n",
       "12    -22.744091    -22.744091                   0.0   \n",
       "13    -32.016744    -32.016744                   0.0   \n",
       "14      0.728232      0.728232                   0.0   \n",
       "\n",
       "    multiplicative_terms_lower  multiplicative_terms_upper        yhat    y  \n",
       "0                          0.0                         0.0   84.455661  112  \n",
       "1                          0.0                         0.0   77.865881  118  \n",
       "2                          0.0                         0.0  110.050887  132  \n",
       "3                          0.0                         0.0  107.531826  129  \n",
       "4                          0.0                         0.0  111.043030  121  \n",
       "5                          0.0                         0.0  151.009229  135  \n",
       "6                          0.0                         0.0  189.746443  148  \n",
       "7                          0.0                         0.0  189.226670  148  \n",
       "8                          0.0                         0.0  139.783327  136  \n",
       "9                          0.0                         0.0  103.627850  119  \n",
       "10                         0.0                         0.0   68.857828  104  \n",
       "11                         0.0                         0.0   97.309903  118  \n",
       "12                         0.0                         0.0  109.301542  115  \n",
       "13                         0.0                         0.0  102.207779  126  \n",
       "14                         0.0                         0.0  136.920783  141  "
      ]
     },
     "execution_count": 71,
     "metadata": {},
     "output_type": "execute_result"
    }
   ],
   "source": [
    "df.head(15)"
   ]
  },
  {
   "cell_type": "code",
   "execution_count": null,
   "metadata": {},
   "outputs": [],
   "source": [
    "ts.diff()"
   ]
  },
  {
   "cell_type": "markdown",
   "metadata": {},
   "source": [
    "From the trend and seasonality, we can see that the trend is a playing a large part in the underlying time series and seasonality comes into play mostly toward the beginning and the end of the year. With this information, we've been able to quickly model and forecast some data to get a feel for what might be coming our way in the future from this particular data set."
   ]
  },
  {
   "cell_type": "markdown",
   "metadata": {},
   "source": [
    "## Summary \n",
    "In this lab, you learned how to use the Prophet library to perform time series forecasting in Python. We have been using out-of-the box parameters, but Prophet enables us to specify many more arguments. In particular, Prophet provides the functionality to bring your own knowledge about time series to the table."
   ]
  }
 ],
 "metadata": {
  "kernelspec": {
   "display_name": "Python [conda env:learn-env] *",
   "language": "python",
   "name": "conda-env-learn-env-py"
  },
  "language_info": {
   "codemirror_mode": {
    "name": "ipython",
    "version": 3
   },
   "file_extension": ".py",
   "mimetype": "text/x-python",
   "name": "python",
   "nbconvert_exporter": "python",
   "pygments_lexer": "ipython3",
   "version": "3.6.6"
  }
 },
 "nbformat": 4,
 "nbformat_minor": 2
}
